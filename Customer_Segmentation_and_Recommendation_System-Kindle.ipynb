{
 "cells": [
  {
   "cell_type": "markdown",
   "metadata": {},
   "source": [
    "----\n",
    "\n",
    "## Amazon Kindle Reviews - Customer Segmentation and Collaborative Filtering Recommendation System"
   ]
  },
  {
   "cell_type": "code",
   "execution_count": 1,
   "metadata": {},
   "outputs": [
    {
     "name": "stdout",
     "output_type": "stream",
     "text": [
      "[nltk_data] Downloading package universal_tagset to\n",
      "[nltk_data]     /home/conrad/nltk_data...\n",
      "[nltk_data]   Package universal_tagset is already up-to-date!\n"
     ]
    }
   ],
   "source": [
    "from requests import get\n",
    "import json\n",
    "from tqdm import tqdm\n",
    "from collections import defaultdict\n",
    "import pickle \n",
    "import re\n",
    "import string\n",
    "import pandas as pd\n",
    "import numpy as np\n",
    "from pymongo import MongoClient\n",
    "from scipy.sparse import coo_matrix\n",
    "from scipy.sparse import csc_matrix\n",
    "import scipy\n",
    "import os\n",
    "import ast\n",
    "import gensim\n",
    "from itertools import combinations\n",
    "from random import shuffle\n",
    "import random\n",
    "import seaborn as sns\n",
    "\n",
    "import nltk\n",
    "from nltk.corpus import stopwords\n",
    "from nltk.tokenize import word_tokenize\n",
    "from textblob import TextBlob\n",
    "from textblob import Blobber\n",
    "from gensim import corpora, models, similarities, matutils\n",
    "from nltk.tag import pos_tag\n",
    "nltk.download('universal_tagset')\n",
    "\n",
    "from sklearn.feature_extraction.text import CountVectorizer\n",
    "from sklearn.metrics.pairwise import cosine_similarity\n",
    "from sklearn.cluster import KMeans\n",
    "from sklearn.decomposition import TruncatedSVD\n",
    "from sklearn.feature_extraction.text import TfidfVectorizer\n",
    "from sklearn.preprocessing import Normalizer\n",
    "from sklearn.decomposition import NMF\n",
    "from sklearn.decomposition import PCA\n",
    "from sklearn.preprocessing import StandardScaler\n",
    "from sklearn.manifold import TSNE\n",
    "from sklearn.cluster import DBSCAN\n",
    "\n",
    "import matplotlib.pyplot as plt\n",
    "from mpl_toolkits.mplot3d import Axes3D\n",
    "\n",
    "import warnings\n",
    "warnings.filterwarnings('ignore')\n",
    "\n",
    "%matplotlib inline\n",
    "%load_ext memory_profiler"
   ]
  },
  {
   "cell_type": "markdown",
   "metadata": {},
   "source": [
    "### Kindle Reviews - Text Loading and Cleaning"
   ]
  },
  {
   "cell_type": "code",
   "execution_count": null,
   "metadata": {
    "collapsed": true
   },
   "outputs": [],
   "source": [
    "json_full_path='/home/conrad/Documents/ds/metis/projects/Fletcher/reviews_Kindle_Store_5.json'\n",
    " \n",
    "# Dataset provided by Image-based recommendations on styles and substitutes\n",
    "# J. McAuley, C. Targett, J. Shi, A. van den Hengel\n",
    "# SIGIR, 2015\n"
   ]
  },
  {
   "cell_type": "code",
   "execution_count": null,
   "metadata": {
    "collapsed": true
   },
   "outputs": [],
   "source": [
    "# Make counts for number of reviews\n",
    "reviews_count = defaultdict(int)\n",
    "with open(json_full_path) as f:\n",
    "    for line in f:\n",
    "        reviews_count[json.loads(line)['reviewerID']]+=1"
   ]
  },
  {
   "cell_type": "code",
   "execution_count": null,
   "metadata": {
    "collapsed": true
   },
   "outputs": [],
   "source": [
    "# Limit dataset to only look at users with between 10 and 15 reviews. \n",
    "# To limit dataset size and ensure we are not looking at paid reviewers or reviewers with too few reviews to build up a document per user\n",
    "users_gt_10_15_reviews=[]\n",
    "total_reviews=0\n",
    "for key, value in reviews_count.items():\n",
    "    if value > 10 and value <15:\n",
    "        users_gt_10_15_reviews.append(key)\n",
    "        total_reviews+=value\n",
    "print(total_reviews)"
   ]
  },
  {
   "cell_type": "code",
   "execution_count": null,
   "metadata": {
    "collapsed": true
   },
   "outputs": [],
   "source": [
    "# Create data list, of reviews\n",
    "data=[]\n",
    "with open(json_full_path) as f:\n",
    "    for line in f:\n",
    "        if json.loads(line)['reviewerID'] in users_gt_10_15_reviews:\n",
    "            data.append(json.loads(line))"
   ]
  },
  {
   "cell_type": "code",
   "execution_count": null,
   "metadata": {
    "collapsed": true
   },
   "outputs": [],
   "source": [
    "# Write out datalist to pickle file\n",
    "with open(\"data_reviews_kindle.pkl\", \"wb\") as f:\n",
    "    pickle.dump(data, f)"
   ]
  },
  {
   "cell_type": "code",
   "execution_count": 2,
   "metadata": {
    "collapsed": true
   },
   "outputs": [],
   "source": [
    "# Load Amazon kindle review data. \n",
    "# Reviews stored in 'data_reviews_kindle'\n",
    "with open(\"/home/conrad/Documents/ds/metis/projects/Fletcher/data_reviews_kindle.pkl\", \"rb\") as f:\n",
    "    data = pickle.load(f)"
   ]
  },
  {
   "cell_type": "code",
   "execution_count": 3,
   "metadata": {},
   "outputs": [
    {
     "name": "stdout",
     "output_type": "stream",
     "text": [
      "loaded 96130 reviews - example review below\n"
     ]
    },
    {
     "data": {
      "text/plain": [
       "{'asin': 'B000F83SZQ',\n",
       " 'helpful': [0, 0],\n",
       " 'overall': 5.0,\n",
       " 'reviewText': \"I enjoy vintage books and movies so I enjoyed reading this book.  The plot was unusual.  Don't think killing someone in self-defense but leaving the scene and the body without notifying the police or hitting someone in the jaw to knock them out would wash today.Still it was a good read for me.\",\n",
       " 'reviewTime': '05 5, 2014',\n",
       " 'reviewerID': 'A1F6404F1VG29J',\n",
       " 'reviewerName': 'Avidreader',\n",
       " 'summary': 'Nice vintage story',\n",
       " 'unixReviewTime': 1399248000}"
      ]
     },
     "execution_count": 3,
     "metadata": {},
     "output_type": "execute_result"
    }
   ],
   "source": [
    "# Example of review data input. Asin is product number, overall is rating out of 5 stars\n",
    "print('loaded ' + str(len(data)) + ' reviews - example review below')\n",
    "data[0]"
   ]
  },
  {
   "cell_type": "code",
   "execution_count": 4,
   "metadata": {},
   "outputs": [
    {
     "name": "stderr",
     "output_type": "stream",
     "text": [
      "100%|██████████| 96130/96130 [01:08<00:00, 1408.70it/s]\n"
     ]
    }
   ],
   "source": [
    "\n",
    "# Set stopwords and add additional stopwords that occur frequently in the reviews, but provide little or no information\n",
    "stopword_set = set(stopwords.words('english'))\n",
    "stopword_set.update(('one', 'two', 'get', 'know', 'much', 'like', 'even', 'great', 'well', 'would', 'really',\n",
    "                     'good', 'next', 'put', 'end', 'beginning', 'and', 'life', 'line', 'wait', 'didnt', 'part',\n",
    "                     'lot', 'reading', 'love', 'book', 'series', 'story', 'author', 'read', 'way', 'I', 'A', \n",
    "                     'And', 'So', 'arnt', 'This', 'When', 'It', 'many', 'Many', 'so', 'cant', 'Yes', 'yes', \n",
    "                     'No', 'no', 'These', 'these'))\n",
    "\n",
    "\n",
    "words = set(nltk.corpus.words.words())\n",
    "clean_text_dict = {}\n",
    "clean_text_dict_product = {}\n",
    "ratings_dict = defaultdict(list)\n",
    "\n",
    "# Clean review data. 1. remove non-alpha characters, make lower, tokenize, check if english (check against words)\n",
    "# remove stopwords,store in dict where key is reviewer ID\n",
    "for entry in tqdm(data):\n",
    "    ratings_dict[entry['reviewerID']].append((entry['asin'], entry['overall']))\n",
    "    clean_text = re.sub('[\\']' , '', entry['reviewText'])\n",
    "    clean_text = re.sub('[%s]' %re.escape(string.punctuation), ' ', clean_text.lower())\n",
    "    clean_text = re.sub('\\w*\\d\\w*', '', clean_text)\n",
    "    clean_text = word_tokenize(clean_text)\n",
    "    clean_text = [i for i in clean_text if i not in stopword_set and i in words]\n",
    "    if entry['reviewerID'] not in clean_text_dict:\n",
    "        clean_text_dict[entry['reviewerID']] = []\n",
    "    clean_text_dict[entry['reviewerID']].extend([' '.join(clean_text)])\n",
    "\n",
    "# Delete objects to free up RAM\n",
    "del words\n",
    "del data\n",
    "del clean_text"
   ]
  },
  {
   "cell_type": "markdown",
   "metadata": {},
   "source": [
    "### Building Reviewer Corpus"
   ]
  },
  {
   "cell_type": "code",
   "execution_count": 5,
   "metadata": {},
   "outputs": [
    {
     "name": "stderr",
     "output_type": "stream",
     "text": [
      "100%|██████████| 7843/7843 [00:00<00:00, 239535.77it/s]\n"
     ]
    }
   ],
   "source": [
    "corpus=[]\n",
    "reviewerIDs=[]\n",
    "\n",
    "# Create corpus reviews, where each entry is all of a user's reviews concatenated\n",
    "for key in tqdm(clean_text_dict.keys()):\n",
    "    corpus.append(' '.join(clean_text_dict[key]))\n",
    "    reviewerIDs.append(key)\n",
    "\n",
    "# Working with a subset of the data, 2000 reviewers. Remove all words that are not Nouns\n",
    "for i in range(len(corpus[0:2000])):\n",
    "    new_string=' '\n",
    "    corpus[i]=pos_tag(word_tokenize(corpus[i]),tagset='universal')\n",
    "    entry=[e[0] for e in corpus[i] if e[1] =='NOUN']\n",
    "    corpus[i] = new_string.join(entry)"
   ]
  },
  {
   "cell_type": "markdown",
   "metadata": {},
   "source": [
    "### Final result from Topic Modeling Testing - NMF with Five Categories of Users"
   ]
  },
  {
   "cell_type": "code",
   "execution_count": 6,
   "metadata": {
    "collapsed": true
   },
   "outputs": [],
   "source": [
    "# Helper function to print out most frequent words, for determining topics\n",
    "def display_topics(model, feature_names, no_top_words, topic_names=None):\n",
    "    for ix, topic in enumerate(model.components_):\n",
    "        if not topic_names or not topic_names[ix]:\n",
    "            print(\"\\nTopic \", ix)\n",
    "        else:\n",
    "            print(\"\\nTopic: '\", topic_names[ix], \"'\")\n",
    "        print(\", \".join([feature_names[i]\n",
    "                        for i in topic.argsort()[:-no_top_words - 1:-1]]))"
   ]
  },
  {
   "cell_type": "code",
   "execution_count": 7,
   "metadata": {},
   "outputs": [],
   "source": [
    "# Create document term matrix with TFIDF for a subset of the corpus\n",
    "cv_tfidf_ngram = TfidfVectorizer(ngram_range=(1, 2))\n",
    "X_tfidf_ngram = cv_tfidf_ngram.fit_transform(corpus[:1000]).toarray()"
   ]
  },
  {
   "cell_type": "code",
   "execution_count": 8,
   "metadata": {},
   "outputs": [
    {
     "name": "stdout",
     "output_type": "stream",
     "text": [
      "\n",
      "Topic  0\n",
      "sex, hero, heroine, relationship, woman, man, time, men\n",
      "\n",
      "Topic  1\n",
      "character, plot, development, action, character development, time, science, fiction\n",
      "\n",
      "Topic  2\n",
      "romance, anyone, romance romance, romance time, anyone romance, time, suspense, mystery\n",
      "\n",
      "Topic  3\n",
      "people, time, world, something, work, case, cover, day\n",
      "\n",
      "Topic  4\n",
      "mystery, fun, page, interest, turner, page turner, recommend, seat\n"
     ]
    }
   ],
   "source": [
    "# Run NMF with 5 components for topic modeling, run helper function to display topic content\n",
    "nmf = NMF(n_components=5, init='random', random_state=42)\n",
    "tfidf_nmf = nmf.fit_transform(X_tfidf_ngram)\n",
    "display_topics(nmf, cv_tfidf_ngram.get_feature_names(), 8)"
   ]
  },
  {
   "cell_type": "code",
   "execution_count": 9,
   "metadata": {},
   "outputs": [
    {
     "name": "stdout",
     "output_type": "stream",
     "text": [
      "[t-SNE] Computing 91 nearest neighbors...\n",
      "[t-SNE] Indexed 1000 samples in 0.001s...\n",
      "[t-SNE] Computed neighbors for 1000 samples in 0.036s...\n",
      "[t-SNE] Computed conditional probabilities for sample 1000 / 1000\n",
      "[t-SNE] Mean sigma: 0.003822\n",
      "[t-SNE] KL divergence after 250 iterations with early exaggeration: 64.869568\n",
      "[t-SNE] Error after 1000 iterations: 0.766005\n"
     ]
    },
    {
     "data": {
      "text/plain": [
       "<matplotlib.collections.PathCollection at 0x7fbd046feef0>"
      ]
     },
     "execution_count": 9,
     "metadata": {},
     "output_type": "execute_result"
    },
    {
     "data": {
      "image/png": "[encoded data removed]",
      "text/plain": [
       "<matplotlib.figure.Figure at 0x7fbd0bf6b940>"
      ]
     },
     "metadata": {},
     "output_type": "display_data"
    }
   ],
   "source": [
    "# Further reduce feature space using TSNE and plot output (only for visualization)\n",
    "tsne_model = TSNE(n_components=2, verbose=1, random_state=0, angle=.99, init='pca')\n",
    "tsne_nmf = tsne_model.fit_transform(tfidf_nmf)\n",
    "x = tsne_nmf[:,1]\n",
    "y = tsne_nmf[:,0]\n",
    "z = tfidf_nmf.argmax(axis=1)\n",
    "df_2d_TSNE = pd.DataFrame({'x':x, 'y':y,'c':z})\n",
    "plt.figure(figsize=(10,10))\n",
    "plt.title('TSNE Components 1 and 2, Points Colored by Topic')\n",
    "plt.scatter(x, y, c=z, cmap='viridis',label=set(z))"
   ]
  },
  {
   "cell_type": "code",
   "execution_count": 10,
   "metadata": {
    "collapsed": true
   },
   "outputs": [],
   "source": [
    "# Write out TSNE data, to be loaded into Tableau\n",
    "df_2d_TSNE.to_csv('/home/conrad/Documents/ds/metis/projects/Fletcher/2d_TSNE')"
   ]
  },
  {
   "cell_type": "markdown",
   "metadata": {},
   "source": [
    "### Recommendation system - Build User Item Matrix"
   ]
  },
  {
   "cell_type": "code",
   "execution_count": 11,
   "metadata": {},
   "outputs": [],
   "source": [
    "# Load data for recommendaton system\n",
    "json_full_path = '/home/conrad/Documents/ds/metis/projects/Fletcher/reviews_Kindle_Store_5.json'\n",
    "\n",
    "reviews_count = defaultdict(int)\n",
    "\n",
    "with open(json_full_path) as f:\n",
    "    for line in f:\n",
    "        reviews_count[json.loads(line)['reviewerID']] += 1"
   ]
  },
  {
   "cell_type": "code",
   "execution_count": 12,
   "metadata": {},
   "outputs": [
    {
     "name": "stderr",
     "output_type": "stream",
     "text": [
      "206it [00:00, 2057.03it/s]"
     ]
    },
    {
     "name": "stdout",
     "output_type": "stream",
     "text": [
      "Total reviews loaded for recommendation 60001\n"
     ]
    },
    {
     "name": "stderr",
     "output_type": "stream",
     "text": [
      "982619it [05:51, 2796.97it/s]\n"
     ]
    }
   ],
   "source": [
    "# Take a subset of the data and only take users that have a certain number of reviews per person\n",
    "users_10_11_reviews = []\n",
    "total_reviews = 0\n",
    "\n",
    "for key, value in reviews_count.items():\n",
    "    if value > 9 and value < 12:\n",
    "        users_10_11_reviews.append(key)\n",
    "        total_reviews += value\n",
    "print('Total reviews loaded for recommendation ' + str(total_reviews))\n",
    "    \n",
    "# Create data recommendation, a list of tuples containing (userid, productID(asin), rating)\n",
    "data_recommendation = []\n",
    "users = []\n",
    "products = []\n",
    "ratings = []\n",
    "\n",
    "with open(json_full_path) as f:\n",
    "    for line in tqdm(f):\n",
    "        if json.loads(line)['reviewerID'] in users_10_11_reviews:\n",
    "            if json.loads(line)['overall'] >= 1.0 and json.loads(line)['overall'] <= 5.0:\n",
    "                data_recommendation.append((json.loads(line)['reviewerID'], json.loads(line)['asin'], json.loads(line)['overall']))\n",
    "                users.append(json.loads(line)['reviewerID'])\n",
    "                products.append(json.loads(line)['asin'])\n",
    "                ratings.append(json.loads(line)['overall'])\n",
    "            "
   ]
  },
  {
   "cell_type": "code",
   "execution_count": 13,
   "metadata": {},
   "outputs": [
    {
     "data": {
      "image/png": "[encoded data removed]",
      "text/plain": [
       "<matplotlib.figure.Figure at 0x7fbd0b593a90>"
      ]
     },
     "metadata": {},
     "output_type": "display_data"
    }
   ],
   "source": [
    "# Plot distribution of ratings used in recommendation system\n",
    "sns.distplot(np.array(ratings),kde=False)\n",
    "plt.title(' Ratings distribution')\n",
    "plt.show()"
   ]
  },
  {
   "cell_type": "code",
   "execution_count": 14,
   "metadata": {
    "collapsed": true
   },
   "outputs": [],
   "source": [
    "# Create dict_product_count showing number of reviews per product. Remove any products with less than 25 reviews\n",
    "dict_product_count = defaultdict(int)\n",
    "data_recommendation_2 = []\n",
    "\n",
    "for entry in data_recommendation:\n",
    "    if entry[1] not in dict_product_count:\n",
    "        dict_product_count[entry[1]] = 1\n",
    "    else:\n",
    "        dict_product_count[entry[1]] += 1\n",
    "        \n",
    "for entry in data_recommendation:\n",
    "    if dict_product_count[entry[1]] > 5:\n",
    "        data_recommendation_2.append(entry)\n",
    "        \n",
    "data_recommendation = data_recommendation_2\n",
    "del data_recommendation_2"
   ]
  },
  {
   "cell_type": "code",
   "execution_count": 15,
   "metadata": {},
   "outputs": [],
   "source": [
    "# Create dictionary to map users and products to unique indicies that will be used in sparse table\n",
    "set_users = set(users)\n",
    "set_products = set(products)\n",
    "dict_users = {}\n",
    "dict_products = {}\n",
    "\n",
    "for i, entry in enumerate(set_users):\n",
    "    dict_users[entry] = i\n",
    "for j, entry in enumerate(set_products):\n",
    "    dict_products[entry] = j\n",
    "\n",
    "    \n",
    "# Create arrays of indicies for users and products that correspond to a given rating\n",
    "users_ind = []\n",
    "products_ind = []\n",
    "ratings_ind = []\n",
    "\n",
    "for entry in data_recommendation:\n",
    "    users_ind.append(dict_users[entry[0]])\n",
    "    products_ind.append(dict_products[entry[1]])\n",
    "    ratings_ind.append(entry[2])\n",
    "\n",
    "# Create sparse dataframe with coo_matrix\n",
    "users_ind  = np.array(users_ind)\n",
    "products_ind  = np.array(products_ind)\n",
    "ratings_ind = np.array(ratings_ind)\n",
    "ratings_matrix = pd.DataFrame(coo_matrix((ratings_ind, (users_ind, products_ind))).toarray())"
   ]
  },
  {
   "cell_type": "code",
   "execution_count": 16,
   "metadata": {},
   "outputs": [
    {
     "name": "stdout",
     "output_type": "stream",
     "text": [
      "#users #products #reviews\n",
      "(5741, 29678) 12432\n"
     ]
    },
    {
     "data": {
      "text/html": [
       "<div>\n",
       "<style>\n",
       "    .dataframe thead tr:only-child th {\n",
       "        text-align: right;\n",
       "    }\n",
       "\n",
       "    .dataframe thead th {\n",
       "        text-align: left;\n",
       "    }\n",
       "\n",
       "    .dataframe tbody tr th {\n",
       "        vertical-align: top;\n",
       "    }\n",
       "</style>\n",
       "<table border=\"1\" class=\"dataframe\">\n",
       "  <thead>\n",
       "    <tr style=\"text-align: right;\">\n",
       "      <th></th>\n",
       "      <th>0</th>\n",
       "      <th>1</th>\n",
       "      <th>2</th>\n",
       "      <th>3</th>\n",
       "      <th>4</th>\n",
       "      <th>5</th>\n",
       "      <th>6</th>\n",
       "      <th>7</th>\n",
       "      <th>8</th>\n",
       "      <th>9</th>\n",
       "      <th>...</th>\n",
       "      <th>29668</th>\n",
       "      <th>29669</th>\n",
       "      <th>29670</th>\n",
       "      <th>29671</th>\n",
       "      <th>29672</th>\n",
       "      <th>29673</th>\n",
       "      <th>29674</th>\n",
       "      <th>29675</th>\n",
       "      <th>29676</th>\n",
       "      <th>29677</th>\n",
       "    </tr>\n",
       "  </thead>\n",
       "  <tbody>\n",
       "    <tr>\n",
       "      <th>0</th>\n",
       "      <td>0.0</td>\n",
       "      <td>0.0</td>\n",
       "      <td>0.0</td>\n",
       "      <td>0.0</td>\n",
       "      <td>0.0</td>\n",
       "      <td>0.0</td>\n",
       "      <td>0.0</td>\n",
       "      <td>0.0</td>\n",
       "      <td>0.0</td>\n",
       "      <td>0.0</td>\n",
       "      <td>...</td>\n",
       "      <td>0.0</td>\n",
       "      <td>0.0</td>\n",
       "      <td>0.0</td>\n",
       "      <td>0.0</td>\n",
       "      <td>0.0</td>\n",
       "      <td>0.0</td>\n",
       "      <td>0.0</td>\n",
       "      <td>0.0</td>\n",
       "      <td>0.0</td>\n",
       "      <td>0.0</td>\n",
       "    </tr>\n",
       "    <tr>\n",
       "      <th>1</th>\n",
       "      <td>0.0</td>\n",
       "      <td>0.0</td>\n",
       "      <td>0.0</td>\n",
       "      <td>0.0</td>\n",
       "      <td>0.0</td>\n",
       "      <td>0.0</td>\n",
       "      <td>0.0</td>\n",
       "      <td>0.0</td>\n",
       "      <td>0.0</td>\n",
       "      <td>0.0</td>\n",
       "      <td>...</td>\n",
       "      <td>0.0</td>\n",
       "      <td>0.0</td>\n",
       "      <td>0.0</td>\n",
       "      <td>0.0</td>\n",
       "      <td>0.0</td>\n",
       "      <td>0.0</td>\n",
       "      <td>0.0</td>\n",
       "      <td>0.0</td>\n",
       "      <td>0.0</td>\n",
       "      <td>0.0</td>\n",
       "    </tr>\n",
       "    <tr>\n",
       "      <th>2</th>\n",
       "      <td>0.0</td>\n",
       "      <td>0.0</td>\n",
       "      <td>0.0</td>\n",
       "      <td>0.0</td>\n",
       "      <td>0.0</td>\n",
       "      <td>0.0</td>\n",
       "      <td>0.0</td>\n",
       "      <td>0.0</td>\n",
       "      <td>0.0</td>\n",
       "      <td>0.0</td>\n",
       "      <td>...</td>\n",
       "      <td>0.0</td>\n",
       "      <td>0.0</td>\n",
       "      <td>0.0</td>\n",
       "      <td>0.0</td>\n",
       "      <td>0.0</td>\n",
       "      <td>0.0</td>\n",
       "      <td>0.0</td>\n",
       "      <td>0.0</td>\n",
       "      <td>0.0</td>\n",
       "      <td>0.0</td>\n",
       "    </tr>\n",
       "    <tr>\n",
       "      <th>3</th>\n",
       "      <td>0.0</td>\n",
       "      <td>0.0</td>\n",
       "      <td>0.0</td>\n",
       "      <td>0.0</td>\n",
       "      <td>0.0</td>\n",
       "      <td>0.0</td>\n",
       "      <td>0.0</td>\n",
       "      <td>0.0</td>\n",
       "      <td>0.0</td>\n",
       "      <td>0.0</td>\n",
       "      <td>...</td>\n",
       "      <td>0.0</td>\n",
       "      <td>0.0</td>\n",
       "      <td>0.0</td>\n",
       "      <td>0.0</td>\n",
       "      <td>0.0</td>\n",
       "      <td>0.0</td>\n",
       "      <td>0.0</td>\n",
       "      <td>0.0</td>\n",
       "      <td>0.0</td>\n",
       "      <td>0.0</td>\n",
       "    </tr>\n",
       "    <tr>\n",
       "      <th>4</th>\n",
       "      <td>0.0</td>\n",
       "      <td>0.0</td>\n",
       "      <td>0.0</td>\n",
       "      <td>0.0</td>\n",
       "      <td>0.0</td>\n",
       "      <td>0.0</td>\n",
       "      <td>0.0</td>\n",
       "      <td>0.0</td>\n",
       "      <td>0.0</td>\n",
       "      <td>0.0</td>\n",
       "      <td>...</td>\n",
       "      <td>0.0</td>\n",
       "      <td>0.0</td>\n",
       "      <td>0.0</td>\n",
       "      <td>0.0</td>\n",
       "      <td>0.0</td>\n",
       "      <td>0.0</td>\n",
       "      <td>0.0</td>\n",
       "      <td>0.0</td>\n",
       "      <td>0.0</td>\n",
       "      <td>0.0</td>\n",
       "    </tr>\n",
       "  </tbody>\n",
       "</table>\n",
       "<p>5 rows × 29678 columns</p>\n",
       "</div>"
      ],
      "text/plain": [
       "   0      1      2      3      4      5      6      7      8      9      \\\n",
       "0    0.0    0.0    0.0    0.0    0.0    0.0    0.0    0.0    0.0    0.0   \n",
       "1    0.0    0.0    0.0    0.0    0.0    0.0    0.0    0.0    0.0    0.0   \n",
       "2    0.0    0.0    0.0    0.0    0.0    0.0    0.0    0.0    0.0    0.0   \n",
       "3    0.0    0.0    0.0    0.0    0.0    0.0    0.0    0.0    0.0    0.0   \n",
       "4    0.0    0.0    0.0    0.0    0.0    0.0    0.0    0.0    0.0    0.0   \n",
       "\n",
       "   ...    29668  29669  29670  29671  29672  29673  29674  29675  29676  29677  \n",
       "0  ...      0.0    0.0    0.0    0.0    0.0    0.0    0.0    0.0    0.0    0.0  \n",
       "1  ...      0.0    0.0    0.0    0.0    0.0    0.0    0.0    0.0    0.0    0.0  \n",
       "2  ...      0.0    0.0    0.0    0.0    0.0    0.0    0.0    0.0    0.0    0.0  \n",
       "3  ...      0.0    0.0    0.0    0.0    0.0    0.0    0.0    0.0    0.0    0.0  \n",
       "4  ...      0.0    0.0    0.0    0.0    0.0    0.0    0.0    0.0    0.0    0.0  \n",
       "\n",
       "[5 rows x 29678 columns]"
      ]
     },
     "execution_count": 16,
     "metadata": {},
     "output_type": "execute_result"
    }
   ],
   "source": [
    "# Inspect sparse dataframe that will be used in recommendation system\n",
    "print('#users','#products','#reviews')\n",
    "print(ratings_matrix.shape, len(ratings_ind))\n",
    "ratings_matrix.head()"
   ]
  },
  {
   "cell_type": "code",
   "execution_count": 17,
   "metadata": {
    "collapsed": true
   },
   "outputs": [],
   "source": [
    "dict_users_bkwards = {}\n",
    "dict_products_bkwards = {}\n",
    "\n",
    "for k,v in dict_users.items():\n",
    "    dict_users_bkwards[v] = k\n",
    "    \n",
    "for k,v in dict_products.items():\n",
    "    dict_products_bkwards[v] = k"
   ]
  },
  {
   "cell_type": "markdown",
   "metadata": {},
   "source": [
    "### Using SVD to Reveal Latent Variables and Creating Recommendations with Collaborative Filtering"
   ]
  },
  {
   "cell_type": "code",
   "execution_count": 18,
   "metadata": {
    "collapsed": true
   },
   "outputs": [],
   "source": [
    "# Normalize ratings matrix by average of row. Fill any non-rated products with 2 star rating\n",
    "\n",
    "ratings_matrix.replace(to_replace=0.0, value=2.0, inplace=True)\n",
    "ratings_matrix = ratings_matrix.subtract(ratings_matrix.mean(axis=1),axis=0)"
   ]
  },
  {
   "cell_type": "code",
   "execution_count": 19,
   "metadata": {},
   "outputs": [
    {
     "name": "stdout",
     "output_type": "stream",
     "text": [
      "explained varience [ 0.01298796  0.00870908  0.00724385]\n"
     ]
    }
   ],
   "source": [
    "# Run SVD and assign U and VT from output\n",
    "svd = TruncatedSVD(n_components=3)\n",
    "svd_out = svd.fit_transform(ratings_matrix)\n",
    "print('explained varience ' + str(svd.explained_variance_ratio_))\n",
    "VT = svd.components_\n",
    "U = svd_out"
   ]
  },
  {
   "cell_type": "code",
   "execution_count": 20,
   "metadata": {},
   "outputs": [],
   "source": [
    "# Helper function for comparing item to item with dot products and outputing most similar items\n",
    "def get_recommends(itemID, VT, num_recom=2):\n",
    "    recs = []\n",
    "    for item in range(VT.T.shape[0]):\n",
    "        if item != itemID:\n",
    "            recs.append([item,np.dot(VT.T[itemID],VT.T[item])])\n",
    "    final_rec = [i[0] for i in sorted(recs, key=lambda x: x[1], reverse=True)]\n",
    "    return final_rec[:num_recom]\n"
   ]
  },
  {
   "cell_type": "code",
   "execution_count": 21,
   "metadata": {},
   "outputs": [],
   "source": [
    "# Make dictionary of best products i.e. products a user rated 4 or 5 stars where key is user\n",
    "data_recommendation_high= [entry for entry in data_recommendation if entry[2] > 3]\n",
    "dict_products_bkwards[j]\n",
    "ratings_dict_best = defaultdict(list)\n",
    "\n",
    "for entry in data_recommendation_high:\n",
    "    ratings_dict_best[entry[0]].append(entry[1:])"
   ]
  },
  {
   "cell_type": "code",
   "execution_count": 22,
   "metadata": {},
   "outputs": [],
   "source": [
    "# Creates recommendations by userID using SVD latent feature extraction\n",
    "recommendation_dict_svd = defaultdict(list)\n",
    "user_liked_product = []\n",
    "\n",
    "# Find random product a user liked. Then use get_recommends helper function to find 6 other similar products\n",
    "for i in range(len(dict_users_bkwards)):\n",
    "    try:\n",
    "        user_liked_product.append(dict_products[random.choice(ratings_dict_best[dict_users_bkwards[i]])[0]])\n",
    "    except:\n",
    "        continue\n",
    "    recommended_products = get_recommends(user_liked_product[-1], VT, num_recom=6)\n",
    "    for j in recommended_products:\n",
    "        recommendation_dict_svd[dict_users_bkwards[i]].append(dict_products_bkwards[j])\n"
   ]
  },
  {
   "cell_type": "code",
   "execution_count": 23,
   "metadata": {},
   "outputs": [
    {
     "name": "stdout",
     "output_type": "stream",
     "text": [
      "For this random user ID, A31FNFK4UPNHDP the following products from the kindle store are recommended\n"
     ]
    },
    {
     "data": {
      "text/plain": [
       "['B00JDYC5OI',\n",
       " 'B00KF0URBM',\n",
       " 'B00EPZUSYY',\n",
       " 'B00HYQJPC2',\n",
       " 'B00KFUJX58',\n",
       " 'B00KPIPQJ2']"
      ]
     },
     "execution_count": 23,
     "metadata": {},
     "output_type": "execute_result"
    }
   ],
   "source": [
    "rand_user = random.choice(list(recommendation_dict_svd.keys()))\n",
    "print('For this random user ID, ' + rand_user + ' the following products from the kindle store are recommended')\n",
    "recommendation_dict_svd[rand_user]"
   ]
  },
  {
   "cell_type": "code",
   "execution_count": null,
   "metadata": {
    "collapsed": true
   },
   "outputs": [],
   "source": []
  }
 ],
 "metadata": {
  "kernelspec": {
   "display_name": "Python 3",
   "language": "python",
   "name": "python3"
  },
  "language_info": {
   "codemirror_mode": {
    "name": "ipython",
    "version": 3
   },
   "file_extension": ".py",
   "mimetype": "text/x-python",
   "name": "python",
   "nbconvert_exporter": "python",
   "pygments_lexer": "ipython3",
   "version": "3.6.1"
  }
 },
 "nbformat": 4,
 "nbformat_minor": 2
}
